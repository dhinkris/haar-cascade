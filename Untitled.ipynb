{
 "cells": [
  {
   "cell_type": "code",
   "execution_count": 2,
   "metadata": {
    "collapsed": false,
    "scrolled": true
   },
   "outputs": [
    {
     "ename": "KeyboardInterrupt",
     "evalue": "",
     "output_type": "error",
     "traceback": [
      "\u001b[0;31m---------------------------------------------------------------------------\u001b[0m",
      "\u001b[0;31mKeyboardInterrupt\u001b[0m                         Traceback (most recent call last)",
      "\u001b[0;32m<ipython-input-2-1f87910cb861>\u001b[0m in \u001b[0;36m<module>\u001b[0;34m()\u001b[0m\n\u001b[1;32m      5\u001b[0m \u001b[1;33m\u001b[0m\u001b[0m\n\u001b[1;32m      6\u001b[0m \u001b[1;32mwhile\u001b[0m \u001b[1;32mTrue\u001b[0m\u001b[1;33m:\u001b[0m\u001b[1;33m\u001b[0m\u001b[0m\n\u001b[0;32m----> 7\u001b[0;31m         \u001b[0m_\u001b[0m\u001b[1;33m,\u001b[0m \u001b[0mframe\u001b[0m \u001b[1;33m=\u001b[0m \u001b[0mcap\u001b[0m\u001b[1;33m.\u001b[0m\u001b[0mread\u001b[0m\u001b[1;33m(\u001b[0m\u001b[1;33m)\u001b[0m\u001b[1;33m\u001b[0m\u001b[0m\n\u001b[0m\u001b[1;32m      8\u001b[0m         \u001b[0mhsv\u001b[0m \u001b[1;33m=\u001b[0m \u001b[0mcv2\u001b[0m\u001b[1;33m.\u001b[0m\u001b[0mcvtColor\u001b[0m\u001b[1;33m(\u001b[0m\u001b[0mframe\u001b[0m\u001b[1;33m,\u001b[0m \u001b[0mcv2\u001b[0m\u001b[1;33m.\u001b[0m\u001b[0mCOLOR_BGR2HSV\u001b[0m\u001b[1;33m)\u001b[0m\u001b[1;33m\u001b[0m\u001b[0m\n\u001b[1;32m      9\u001b[0m \u001b[1;33m\u001b[0m\u001b[0m\n",
      "\u001b[0;31mKeyboardInterrupt\u001b[0m: "
     ]
    }
   ],
   "source": [
    "import cv2\n",
    "import numpy as np\n",
    "\n",
    "cap = cv2.VideoCapture(0)\n",
    "\n",
    "while True:\n",
    "\t_, frame = cap.read()\n",
    "\thsv = cv2.cvtColor(frame, cv2.COLOR_BGR2HSV)\n",
    "\t\n",
    "\t#hsv hue sat value\n",
    "\tlower_red = np.array([150,150,50])\n",
    "\tupper_red = np.array([180,255,255])\n",
    "\t\n",
    "\tmask = cv2.inRange(hsv,lower_red,upper_red)\n",
    "\tres = cv2.bitwise_and(frame, frame, mask = mask)\n",
    "\t\n",
    "\t#kernel= np.ones((15,15),np.float32)/255\n",
    "\t#smoothed = cv2.filter2D(res,-1, kernel)\n",
    "\t\n",
    "\tkernel = np.ones((5,5),np.uint8)\n",
    "\terosion = cv2.erode(mask, kernel, iterations = 1)\n",
    "\tdilation = cv2.dilate(mask, kernel, iterations =1)\n",
    "\t\n",
    "\topening = cv2.morphologyEx(mask, cv2.MORPH_OPEN, kernel)\n",
    "\tclosing = cv2.morphologyEx(mask, cv2.MORPH_OPEN, kernel)\n",
    "\t\n",
    "\tcv2.imshow('frame',frame)\n",
    "\tcv2.imshow('dilation',dilation)\n",
    "\tcv2.imshow('erosion',erosion)\n",
    "\tcv2.imshow('opening',opening)\n",
    "\tcv2.imshow('closing',closing)\n",
    "\tcv2.imshow('res',res)\n",
    "\t\n",
    "\tk = cv2.waitKey(5) & 0xFF\n",
    "\tif k == 27:\n",
    "\t\tbreak\n",
    "cv2.destroyAllWindows()\n",
    "cv2.release()"
   ]
  },
  {
   "cell_type": "code",
   "execution_count": null,
   "metadata": {
    "collapsed": true
   },
   "outputs": [],
   "source": []
  }
 ],
 "metadata": {
  "kernelspec": {
   "display_name": "Python 3",
   "language": "python",
   "name": "python3"
  },
  "language_info": {
   "codemirror_mode": {
    "name": "ipython",
    "version": 3
   },
   "file_extension": ".py",
   "mimetype": "text/x-python",
   "name": "python",
   "nbconvert_exporter": "python",
   "pygments_lexer": "ipython3",
   "version": "3.6.0"
  }
 },
 "nbformat": 4,
 "nbformat_minor": 2
}
